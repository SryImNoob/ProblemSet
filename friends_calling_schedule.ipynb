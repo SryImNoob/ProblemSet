{
 "cells": [
  {
   "cell_type": "code",
   "execution_count": 9,
   "metadata": {},
   "outputs": [
    {
     "name": "stdout",
     "output_type": "stream",
     "text": [
      "solve 3 1 1  =  1\n",
      "solve 3 1 1  =  0\n",
      "solve 3 2 2  =  6\n",
      "solve 4 2 2  =  2\n"
     ]
    },
    {
     "data": {
      "text/plain": [
       "2"
      ]
     },
     "execution_count": 9,
     "metadata": {},
     "output_type": "execute_result"
    }
   ],
   "source": [
    "def solve(n, f, t):\n",
    "    dp = [[0 for _ in range(f)] for _ in range(n)]\n",
    "    dp[0][0] = 1\n",
    "    for i in range(1, n):\n",
    "        if i - t < 0:\n",
    "            dp[i][i] = 1\n",
    "        else:\n",
    "            for j in range(f):\n",
    "                if j + 1 - t > 0:\n",
    "                    dp[i][j] += dp[i-1][j] * (j + 1 - t)\n",
    "                if i > 0 and j > 0:\n",
    "                    dp[i][j] += dp[i-1][j-1]\n",
    "    t = 1\n",
    "    for i in range(1,f+1):\n",
    "        t *= i\n",
    "    print(\"solve\", n, f, t, \" = \", dp[n-1][f-1] * t)\n",
    "    return dp[n-1][f-1] * t\n",
    "\n",
    "solve(3, 1, 0)\n",
    "solve(3, 1, 1)\n",
    "solve(3, 2, 0)\n",
    "solve(4, 2, 1)"
   ]
  }
 ],
 "metadata": {
  "kernelspec": {
   "display_name": "Python 3",
   "language": "python",
   "name": "python3"
  },
  "language_info": {
   "codemirror_mode": {
    "name": "ipython",
    "version": 3
   },
   "file_extension": ".py",
   "mimetype": "text/x-python",
   "name": "python",
   "nbconvert_exporter": "python",
   "pygments_lexer": "ipython3",
   "version": "3.8.3"
  }
 },
 "nbformat": 4,
 "nbformat_minor": 4
}
