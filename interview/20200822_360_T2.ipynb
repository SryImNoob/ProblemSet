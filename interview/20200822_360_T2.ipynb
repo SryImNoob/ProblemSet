{
 "cells": [
  {
   "cell_type": "markdown",
   "metadata": {},
   "source": [
    "# T2[调整排列]\n",
    "\n",
    "# 题目描述\n",
    "给定一个1到N的排列P1P1到PNPN（N为偶数），初始时Pi=iPi=i（1≤i≤N1≤i≤N），现在要对排列进行M次操作，每次操作为以下两种中一种：\n",
    "  1. 将排列的第1个数移到末尾；\n",
    "  2. 交换排列的第1个数与第2个数、第3个数与第4个数、…、第N-1个数与第N个数。\n",
    "\n",
    "求经过这M次操作后得到的排列。\n",
    "\n",
    "# 输入描述\n",
    "\n",
    "第一行包含两个整数N和M，2≤N,M≤1052≤N,M≤105。\n",
    "\n",
    "第二行包含MM个空格隔开的整数t1t1到tMtM，1≤ti≤21≤ti≤2。若ti=1ti=1，则表示第i次操作为操作1；否则第i次操作为操作2。\n",
    "\n",
    "# 输出描述\n",
    "\n",
    "输出N个空格隔开的整数，即经过M次操作后得到的排列。\n",
    "\n",
    "# 示例1\n",
    "\n",
    "## 样例输入\n",
    "\n",
    "```\n",
    "4 3\n",
    "1 2 1\n",
    "```\n",
    "\n",
    "## 样例输出\n",
    "\n",
    "```\n",
    "2 1 4 3\n",
    "```\n",
    "作者：xnuohz\n",
    "\n",
    "链接：https://www.acwing.com/file_system/file/content/whole/index/content/1185351/\n",
    "\n",
    "来源：AcWing\n",
    "\n",
    "著作权归作者所有。商业转载请联系作者获得授权，非商业转载请注明出处。"
   ]
  },
  {
   "cell_type": "code",
   "execution_count": 11,
   "metadata": {},
   "outputs": [],
   "source": [
    "def switch(x, n, t):\n",
    "    if t == 0:\n",
    "        if x % 2 == 1:\n",
    "            return x - 1\n",
    "        return x + 1\n",
    "    if x == 0:\n",
    "        return n - 1\n",
    "    if x == n - 1:\n",
    "        return 0\n",
    "    if x % 2 == 1:\n",
    "        return x + 1\n",
    "    return x - 1\n",
    "def solve(n, t):\n",
    "    p = 0\n",
    "    a = 0\n",
    "    b = 1\n",
    "    for x in t:\n",
    "        if x == 1:\n",
    "            p += 1\n",
    "            continue\n",
    "        a = switch(a, n, p % 2)\n",
    "        b = switch(b, n, p % 2)\n",
    "    s = [i + 1 for i in range(n)]\n",
    "    for i in range(n):\n",
    "        if i % 2 == 0:\n",
    "            s[(i + a) % n] = i + 1\n",
    "        else:\n",
    "            s[(i + b - 1) % n] = i + 1\n",
    "    ret = [s[(p + i) % n] for i in range(n)]\n",
    "    return ret"
   ]
  },
  {
   "cell_type": "code",
   "execution_count": 12,
   "metadata": {},
   "outputs": [
    {
     "data": {
      "text/plain": [
       "[2, 1, 4, 3]"
      ]
     },
     "execution_count": 12,
     "metadata": {},
     "output_type": "execute_result"
    }
   ],
   "source": [
    "solve(4,[1,2,1])"
   ]
  },
  {
   "cell_type": "code",
   "execution_count": 17,
   "metadata": {},
   "outputs": [
    {
     "data": {
      "text/plain": [
       "[2, 5, 4, 1, 6, 3]"
      ]
     },
     "execution_count": 17,
     "metadata": {},
     "output_type": "execute_result"
    }
   ],
   "source": [
    "solve(6,[1,2,2,2,1])"
   ]
  }
 ],
 "metadata": {
  "kernelspec": {
   "display_name": "Python 3",
   "language": "python",
   "name": "python3"
  },
  "language_info": {
   "codemirror_mode": {
    "name": "ipython",
    "version": 3
   },
   "file_extension": ".py",
   "mimetype": "text/x-python",
   "name": "python",
   "nbconvert_exporter": "python",
   "pygments_lexer": "ipython3",
   "version": "3.7.4"
  }
 },
 "nbformat": 4,
 "nbformat_minor": 2
}
