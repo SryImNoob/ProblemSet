{
 "cells": [
  {
   "cell_type": "code",
   "execution_count": 11,
   "metadata": {},
   "outputs": [],
   "source": [
    "def switch(x, n, t):\n",
    "    if t == 0:\n",
    "        if x % 2 == 1:\n",
    "            return x - 1\n",
    "        return x + 1\n",
    "    if x == 0:\n",
    "        return n - 1\n",
    "    if x == n - 1:\n",
    "        return 0\n",
    "    if x % 2 == 1:\n",
    "        return x + 1\n",
    "    return x - 1\n",
    "def solve(n, t):\n",
    "    p = 0\n",
    "    a = 0\n",
    "    b = 1\n",
    "    for x in t:\n",
    "        if x == 1:\n",
    "            p += 1\n",
    "            continue\n",
    "        a = switch(a, n, p % 2)\n",
    "        b = switch(b, n, p % 2)\n",
    "    s = [i + 1 for i in range(n)]\n",
    "    for i in range(n):\n",
    "        if i % 2 == 0:\n",
    "            s[(i + a) % n] = i + 1\n",
    "        else:\n",
    "            s[(i + b - 1) % n] = i + 1\n",
    "    ret = [s[(p + i) % n] for i in range(n)]\n",
    "    return ret"
   ]
  },
  {
   "cell_type": "code",
   "execution_count": 12,
   "metadata": {},
   "outputs": [
    {
     "data": {
      "text/plain": [
       "[2, 1, 4, 3]"
      ]
     },
     "execution_count": 12,
     "metadata": {},
     "output_type": "execute_result"
    }
   ],
   "source": [
    "solve(4,[1,2,1])"
   ]
  },
  {
   "cell_type": "code",
   "execution_count": 17,
   "metadata": {},
   "outputs": [
    {
     "data": {
      "text/plain": [
       "[2, 5, 4, 1, 6, 3]"
      ]
     },
     "execution_count": 17,
     "metadata": {},
     "output_type": "execute_result"
    }
   ],
   "source": [
    "solve(6,[1,2,2,2,1])"
   ]
  },
  {
   "cell_type": "code",
   "execution_count": null,
   "metadata": {},
   "outputs": [],
   "source": []
  },
  {
   "cell_type": "code",
   "execution_count": null,
   "metadata": {},
   "outputs": [],
   "source": []
  }
 ],
 "metadata": {
  "kernelspec": {
   "display_name": "Python 3",
   "language": "python",
   "name": "python3"
  },
  "language_info": {
   "codemirror_mode": {
    "name": "ipython",
    "version": 3
   },
   "file_extension": ".py",
   "mimetype": "text/x-python",
   "name": "python",
   "nbconvert_exporter": "python",
   "pygments_lexer": "ipython3",
   "version": "3.7.4"
  }
 },
 "nbformat": 4,
 "nbformat_minor": 2
}
