{
 "cells": [
  {
   "cell_type": "markdown",
   "metadata": {},
   "source": [
    "Given two arrays $A[N]$ and $B[N]$, return the number of $Z[N]$, such that $Z[0] \\le Z[1] \\le \\dots \\le Z[n-1]$ and $A[i] \\le Z[i] < B[i]$.\n",
    "\n",
    "Polynomi"
   ]
  },
  {
   "cell_type": "code",
   "execution_count": 245,
   "metadata": {},
   "outputs": [],
   "source": [
    "def solve_w(y, N):\n",
    "    n = len(y)\n",
    "    w = [0 for i in range(max(n,N))]\n",
    "    g = [[0 for j in range(n+1)] for i in range(n)]\n",
    "    for i in range(n):\n",
    "        g[i][0] = 1\n",
    "        g[i][n] = y[i]\n",
    "        for j in range(1, n):\n",
    "            g[i][j] = g[i][j-1] * (i+1)\n",
    "    for i in range(n):\n",
    "        if g[i][i] == 0:\n",
    "            for k in range(i+1, n):\n",
    "                if g[k][i] != 0:\n",
    "                    g[i], g[k] = g[k], g[i]\n",
    "                    break\n",
    "        if g[i][i] != 1:\n",
    "            s = g[i][i]\n",
    "            for j in range(n+1):\n",
    "                g[i][j] /= s\n",
    "        for l in range(0, n):\n",
    "            if l == i:\n",
    "                continue\n",
    "            s = g[l][i]\n",
    "            for j in range(i, n+1):\n",
    "                g[l][j] -= s * g[i][j]\n",
    "    for i in range(n):\n",
    "        w[i] = g[i][n]\n",
    "    return w\n",
    "\n",
    "def sumN(w, x):\n",
    "    n = len(w)\n",
    "    ret = 0\n",
    "    t = 1\n",
    "    for i in range(n):\n",
    "        ret += w[i] * t\n",
    "        t *= x\n",
    "    return ret\n",
    "\n",
    "def sumX2Y(w, x, y):\n",
    "    return sumN(w, y-1) - sumN(w, x-1)\n",
    "\n",
    "def get_constant(x, n):\n",
    "    ret =[0 for i in range(n)]\n",
    "    ret[0] = x\n",
    "    return ret\n",
    "\n",
    "def add_vec(x, y):\n",
    "    return [x[i] + y[i] for i in range(len(x))]\n",
    "\n",
    "def sub_vec(x, y):\n",
    "    return [x[i] - y[i] for i in range(len(x))]\n",
    "\n",
    "def times_vec(x, t):\n",
    "    return [x[i] * t  for i in range(len(x))]\n",
    "\n",
    "# w = solve_w([0, 1, 3], 0)\n",
    "# print(w)\n",
    "# for i in range(1,10):\n",
    "#     print(sumN(w, i))"
   ]
  },
  {
   "cell_type": "code",
   "execution_count": 292,
   "metadata": {},
   "outputs": [
    {
     "name": "stdout",
     "output_type": "stream",
     "text": [
      "sum 1..9 45.0\n",
      "sum A1..A3 15.0\n",
      "2.0000000000000004\n",
      "1.0\n",
      "-4.999999999999998\n"
     ]
    }
   ],
   "source": [
    "class PowerSum:\n",
    "    def __init__(self, N):\n",
    "        self.N = N\n",
    "        self.W = []\n",
    "        for i in range(N):\n",
    "            s = [0]\n",
    "            for j in range(1, i+2):\n",
    "                s.append(s[j-1] + ((j)**i))\n",
    "            self.W.append(solve_w(s, N+1))\n",
    "            \n",
    "    def sum(self, n, k):\n",
    "        if n == None:\n",
    "            return self.W[k].copy()\n",
    "        return self.get_constant(sumN(self.W[k], n))\n",
    "    \n",
    "    def sumPoly(self, w, n):\n",
    "        ret = self.get_constant(0)\n",
    "        for i in range(len(w)):\n",
    "            if w[i] == 0:\n",
    "                continue\n",
    "            cur = self.sum(n, i)\n",
    "            cur = times_vec(cur, w[i])\n",
    "            ret = add_vec(ret, cur)\n",
    "        return ret\n",
    "    def get_constant(self, x):\n",
    "        ret =[0 for i in range(self.N+1)]\n",
    "        ret[0] = x\n",
    "        return ret\n",
    "    \n",
    "        \n",
    "ps = PowerSum(10)\n",
    "print(\"sum 1..9\", ps.sum(10,1)[0])\n",
    "\n",
    "# An =  1 + 2n\n",
    "# A1 = 3\n",
    "# A2 = 5\n",
    "# A3 = 7\n",
    "print(\"sum A1..A3\", ps.sumPoly([1,2],4)[0])\n",
    "\n",
    "# An = 3 - n^2\n",
    "# A1 = 2\n",
    "# A2 = -1\n",
    "# A3 = -6\n",
    "print(ps.sumPoly([3, 0, -1, 0], 2)[0])\n",
    "print(ps.sumPoly([3, 0, -1, 0], 3)[0])\n",
    "print(ps.sumPoly([3, 0, -1, 0], 4)[0])"
   ]
  },
  {
   "cell_type": "code",
   "execution_count": 294,
   "metadata": {},
   "outputs": [
    {
     "name": "stdout",
     "output_type": "stream",
     "text": [
      "solve = 5.0\n"
     ]
    },
    {
     "data": {
      "text/plain": [
       "[3, -1, 0, 0]"
      ]
     },
     "execution_count": 294,
     "metadata": {},
     "output_type": "execute_result"
    }
   ],
   "source": [
    "def calc_l_r(ps, prev, left, right):\n",
    "    lsum = ps.sumPoly(prev, left)\n",
    "    rsum = ps.sumPoly(prev, right)\n",
    "    return sub_vec(rsum, lsum)\n",
    "\n",
    "def solve_azb(a, b):\n",
    "    n = len(a)\n",
    "    ps = PowerSum(n+1)\n",
    "    s = sorted(list(set(a + b)))\n",
    "    ind = {}\n",
    "    for i in range(len(s)):\n",
    "        ind[s[i]] = i\n",
    "        \n",
    "    prev_left = ind[a[n-1]]\n",
    "    prev_right = ind[b[n-1]]\n",
    "    prev = [ps.get_constant(0) for i in range(len(s))]\n",
    "    for i in range(prev_left, prev_right):\n",
    "        prev[i] = ps.get_constant(1)\n",
    "    for i in range(n-2,-1,-1):\n",
    "        left = ind[a[i]]\n",
    "        right = ind[b[i]]\n",
    "        cur = [ps.get_constant(0) for i in range(len(s))]\n",
    "        for x in range(left, right):\n",
    "            for y in range(max(x,prev_left), prev_right):\n",
    "                if x == y:\n",
    "                    cur[x] = add_vec(cur[x], calc_l_r(ps, prev[y], None, s[y+1]))\n",
    "                else:\n",
    "                    cur[x] = add_vec(cur[x], calc_l_r(ps, prev[y], s[y], s[y+1]))\n",
    "        prev = cur\n",
    "        prev_left = left\n",
    "        prev_right = right\n",
    "        \n",
    "    ans = 0\n",
    "    for x in range(left, right):\n",
    "        z = calc_l_r(ps, cur[x], s[x], s[x+1])\n",
    "        ans += z[0]\n",
    "    return ans\n",
    "    \n",
    "# a = [1, 2], b = [3, 4]\n",
    "# (1, 2), (1, 3), (2, 2), (2, 3)  \n",
    "# solve_azb([1,2], [3,4])\n",
    "\n",
    "a = [2, 3]\n",
    "b = [5, 5]\n",
    "# 2,3 3,3\n",
    "\n",
    "\n",
    "print(\"solve =\", solve_azb(a, b))\n",
    "\n",
    "ps = PowerSum(3)\n",
    "calc_l_r(ps, [1, 0, 0, 0], None, 3)\n",
    "\n",
    "\n",
    "\n",
    "\n"
   ]
  },
  {
   "cell_type": "code",
   "execution_count": 284,
   "metadata": {},
   "outputs": [
    {
     "name": "stdout",
     "output_type": "stream",
     "text": [
      "7140.0 7140\n"
     ]
    }
   ],
   "source": [
    "def helper(a, b, c):\n",
    "    if len(a) == 0:\n",
    "        return 1\n",
    "    ret = 0\n",
    "    for i in range(max(a[0], c), b[0]):\n",
    "        ret += helper(a[1:], b[1:], i)\n",
    "    return ret\n",
    "def simple_solve_azb(a, b):\n",
    "    return helper(a, b, 1)\n",
    "\n",
    "a = [1, 6, 9, 15]\n",
    "b = [10, 20, 20, 25]\n",
    "\n",
    "print(solve_azb(a, b), simple_solve_azb(a, b))\n",
    "\n"
   ]
  }
 ],
 "metadata": {
  "kernelspec": {
   "display_name": "Python 3",
   "language": "python",
   "name": "python3"
  },
  "language_info": {
   "codemirror_mode": {
    "name": "ipython",
    "version": 3
   },
   "file_extension": ".py",
   "mimetype": "text/x-python",
   "name": "python",
   "nbconvert_exporter": "python",
   "pygments_lexer": "ipython3",
   "version": "3.7.3"
  }
 },
 "nbformat": 4,
 "nbformat_minor": 2
}
